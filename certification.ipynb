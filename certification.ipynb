{
 "cells": [
  {
   "cell_type": "markdown",
   "id": "76842d36-1447-4c3f-b54e-34b888a1fc4e",
   "metadata": {},
   "source": [
    "# Аттестация по курсу \"Знакомство с языком Python\""
   ]
  },
  {
   "cell_type": "markdown",
   "id": "bcf4327b-db30-4d78-885a-4a2b25365d3c",
   "metadata": {},
   "source": [
    "## Задание"
   ]
  },
  {
   "cell_type": "markdown",
   "id": "8d855cee-7456-428b-b84f-3e028af033ae",
   "metadata": {},
   "source": [
    "**Задача 44:** В ячейке ниже представлен код генерирующий *DataFrame*, которая состоит всего из 1 столбца. Ваша задача перевести его в *one hot* вид. Сможете ли вы это сделать без `get_dummies`?"
   ]
  },
  {
   "cell_type": "code",
   "execution_count": 2,
   "id": "7a69435d-79c8-43ab-80a4-cf1933fb12ff",
   "metadata": {},
   "outputs": [
    {
     "data": {
      "text/html": [
       "<div>\n",
       "<style scoped>\n",
       "    .dataframe tbody tr th:only-of-type {\n",
       "        vertical-align: middle;\n",
       "    }\n",
       "\n",
       "    .dataframe tbody tr th {\n",
       "        vertical-align: top;\n",
       "    }\n",
       "\n",
       "    .dataframe thead th {\n",
       "        text-align: right;\n",
       "    }\n",
       "</style>\n",
       "<table border=\"1\" class=\"dataframe\">\n",
       "  <thead>\n",
       "    <tr style=\"text-align: right;\">\n",
       "      <th></th>\n",
       "      <th>whoAmI</th>\n",
       "    </tr>\n",
       "  </thead>\n",
       "  <tbody>\n",
       "    <tr>\n",
       "      <th>0</th>\n",
       "      <td>robot</td>\n",
       "    </tr>\n",
       "    <tr>\n",
       "      <th>1</th>\n",
       "      <td>human</td>\n",
       "    </tr>\n",
       "    <tr>\n",
       "      <th>2</th>\n",
       "      <td>human</td>\n",
       "    </tr>\n",
       "    <tr>\n",
       "      <th>3</th>\n",
       "      <td>human</td>\n",
       "    </tr>\n",
       "    <tr>\n",
       "      <th>4</th>\n",
       "      <td>human</td>\n",
       "    </tr>\n",
       "  </tbody>\n",
       "</table>\n",
       "</div>"
      ],
      "text/plain": [
       "  whoAmI\n",
       "0  robot\n",
       "1  human\n",
       "2  human\n",
       "3  human\n",
       "4  human"
      ]
     },
     "execution_count": 2,
     "metadata": {},
     "output_type": "execute_result"
    }
   ],
   "source": [
    "import random\n",
    "import pandas as pd\n",
    "lst = ['robot'] * 10\n",
    "lst += ['human'] * 10\n",
    "random.shuffle(lst)\n",
    "data = pd.DataFrame({'whoAmI':lst})\n",
    "data.head()"
   ]
  },
  {
   "cell_type": "markdown",
   "id": "5e165877-2387-44be-9042-3d38aa185816",
   "metadata": {},
   "source": [
    "## Решение"
   ]
  },
  {
   "cell_type": "markdown",
   "id": "fd1f6659-c938-47e5-8422-5c20c05e4d5b",
   "metadata": {},
   "source": [
    "Для начала создадим копию датафрейма"
   ]
  },
  {
   "cell_type": "code",
   "execution_count": 3,
   "id": "0115f16a-5158-49b6-a067-35ce68a0ab16",
   "metadata": {},
   "outputs": [],
   "source": [
    "data_copy = data.copy(deep = True)"
   ]
  },
  {
   "cell_type": "markdown",
   "id": "0ec898ed-60ff-4a96-958e-c169067e64c7",
   "metadata": {},
   "source": [
    "Cоздадим список уникальных значений столбца `whoAmI`"
   ]
  },
  {
   "cell_type": "code",
   "execution_count": 4,
   "id": "b067bae7-574a-4a4f-be4e-ad223ec6836d",
   "metadata": {},
   "outputs": [
    {
     "data": {
      "text/plain": [
       "['robot', 'human']"
      ]
     },
     "execution_count": 4,
     "metadata": {},
     "output_type": "execute_result"
    }
   ],
   "source": [
    "lst_values = data_copy['whoAmI'].unique().tolist()\n",
    "lst_values"
   ]
  },
  {
   "cell_type": "markdown",
   "id": "cb978c71-1e7d-4ad4-8e6b-e636e4546b65",
   "metadata": {},
   "source": [
    "Создадим пустой результирующий датафрейм"
   ]
  },
  {
   "cell_type": "code",
   "execution_count": 5,
   "id": "5f5fbda6-7afe-416b-9064-dd848a2df36d",
   "metadata": {},
   "outputs": [
    {
     "data": {
      "text/html": [
       "<div>\n",
       "<style scoped>\n",
       "    .dataframe tbody tr th:only-of-type {\n",
       "        vertical-align: middle;\n",
       "    }\n",
       "\n",
       "    .dataframe tbody tr th {\n",
       "        vertical-align: top;\n",
       "    }\n",
       "\n",
       "    .dataframe thead th {\n",
       "        text-align: right;\n",
       "    }\n",
       "</style>\n",
       "<table border=\"1\" class=\"dataframe\">\n",
       "  <thead>\n",
       "    <tr style=\"text-align: right;\">\n",
       "      <th></th>\n",
       "      <th>robot</th>\n",
       "      <th>human</th>\n",
       "    </tr>\n",
       "  </thead>\n",
       "  <tbody>\n",
       "  </tbody>\n",
       "</table>\n",
       "</div>"
      ],
      "text/plain": [
       "Empty DataFrame\n",
       "Columns: [robot, human]\n",
       "Index: []"
      ]
     },
     "execution_count": 5,
     "metadata": {},
     "output_type": "execute_result"
    }
   ],
   "source": [
    "one_hot_data = pd.DataFrame(columns = lst_values)\n",
    "one_hot_data"
   ]
  },
  {
   "cell_type": "markdown",
   "id": "f105be75-4cd0-43fb-8393-1200581e7f39",
   "metadata": {},
   "source": [
    "Проходим по всем строкам датафрейма `data`, формируем цифровую строку в зависимости от значения столбца `whoAmI` и добавляем ее в датафрейм `one_hot_data`"
   ]
  },
  {
   "cell_type": "code",
   "execution_count": 6,
   "id": "07ecf346-3ef1-436f-9974-98aa93af75fe",
   "metadata": {},
   "outputs": [
    {
     "data": {
      "text/html": [
       "<div>\n",
       "<style scoped>\n",
       "    .dataframe tbody tr th:only-of-type {\n",
       "        vertical-align: middle;\n",
       "    }\n",
       "\n",
       "    .dataframe tbody tr th {\n",
       "        vertical-align: top;\n",
       "    }\n",
       "\n",
       "    .dataframe thead th {\n",
       "        text-align: right;\n",
       "    }\n",
       "</style>\n",
       "<table border=\"1\" class=\"dataframe\">\n",
       "  <thead>\n",
       "    <tr style=\"text-align: right;\">\n",
       "      <th></th>\n",
       "      <th>robot</th>\n",
       "      <th>human</th>\n",
       "    </tr>\n",
       "  </thead>\n",
       "  <tbody>\n",
       "    <tr>\n",
       "      <th>0</th>\n",
       "      <td>1</td>\n",
       "      <td>0</td>\n",
       "    </tr>\n",
       "    <tr>\n",
       "      <th>1</th>\n",
       "      <td>0</td>\n",
       "      <td>1</td>\n",
       "    </tr>\n",
       "    <tr>\n",
       "      <th>2</th>\n",
       "      <td>0</td>\n",
       "      <td>1</td>\n",
       "    </tr>\n",
       "    <tr>\n",
       "      <th>3</th>\n",
       "      <td>0</td>\n",
       "      <td>1</td>\n",
       "    </tr>\n",
       "    <tr>\n",
       "      <th>4</th>\n",
       "      <td>0</td>\n",
       "      <td>1</td>\n",
       "    </tr>\n",
       "    <tr>\n",
       "      <th>5</th>\n",
       "      <td>1</td>\n",
       "      <td>0</td>\n",
       "    </tr>\n",
       "    <tr>\n",
       "      <th>6</th>\n",
       "      <td>1</td>\n",
       "      <td>0</td>\n",
       "    </tr>\n",
       "    <tr>\n",
       "      <th>7</th>\n",
       "      <td>1</td>\n",
       "      <td>0</td>\n",
       "    </tr>\n",
       "    <tr>\n",
       "      <th>8</th>\n",
       "      <td>0</td>\n",
       "      <td>1</td>\n",
       "    </tr>\n",
       "    <tr>\n",
       "      <th>9</th>\n",
       "      <td>1</td>\n",
       "      <td>0</td>\n",
       "    </tr>\n",
       "    <tr>\n",
       "      <th>10</th>\n",
       "      <td>1</td>\n",
       "      <td>0</td>\n",
       "    </tr>\n",
       "    <tr>\n",
       "      <th>11</th>\n",
       "      <td>1</td>\n",
       "      <td>0</td>\n",
       "    </tr>\n",
       "    <tr>\n",
       "      <th>12</th>\n",
       "      <td>0</td>\n",
       "      <td>1</td>\n",
       "    </tr>\n",
       "    <tr>\n",
       "      <th>13</th>\n",
       "      <td>0</td>\n",
       "      <td>1</td>\n",
       "    </tr>\n",
       "    <tr>\n",
       "      <th>14</th>\n",
       "      <td>0</td>\n",
       "      <td>1</td>\n",
       "    </tr>\n",
       "    <tr>\n",
       "      <th>15</th>\n",
       "      <td>1</td>\n",
       "      <td>0</td>\n",
       "    </tr>\n",
       "    <tr>\n",
       "      <th>16</th>\n",
       "      <td>0</td>\n",
       "      <td>1</td>\n",
       "    </tr>\n",
       "    <tr>\n",
       "      <th>17</th>\n",
       "      <td>1</td>\n",
       "      <td>0</td>\n",
       "    </tr>\n",
       "    <tr>\n",
       "      <th>18</th>\n",
       "      <td>0</td>\n",
       "      <td>1</td>\n",
       "    </tr>\n",
       "    <tr>\n",
       "      <th>19</th>\n",
       "      <td>1</td>\n",
       "      <td>0</td>\n",
       "    </tr>\n",
       "  </tbody>\n",
       "</table>\n",
       "</div>"
      ],
      "text/plain": [
       "    robot  human\n",
       "0       1      0\n",
       "1       0      1\n",
       "2       0      1\n",
       "3       0      1\n",
       "4       0      1\n",
       "5       1      0\n",
       "6       1      0\n",
       "7       1      0\n",
       "8       0      1\n",
       "9       1      0\n",
       "10      1      0\n",
       "11      1      0\n",
       "12      0      1\n",
       "13      0      1\n",
       "14      0      1\n",
       "15      1      0\n",
       "16      0      1\n",
       "17      1      0\n",
       "18      0      1\n",
       "19      1      0"
      ]
     },
     "execution_count": 6,
     "metadata": {},
     "output_type": "execute_result"
    }
   ],
   "source": [
    "# вначале удалим все строки из датафрейма\n",
    "# необходимо для повторных запускав ячейки\n",
    "# что бы датафрейм создавался заново\n",
    "one_hot_data.drop(one_hot_data.index, inplace = True) \n",
    "\n",
    "# собственно цикл создания one hot вида\n",
    "for row in data['whoAmI']:\n",
    "    if row == lst_values[0]:\n",
    "        one_hot_data.loc[len(one_hot_data)] = [1, 0]\n",
    "    else:\n",
    "        one_hot_data.loc[len(one_hot_data)] = [0, 1]\n",
    "one_hot_data"
   ]
  },
  {
   "cell_type": "markdown",
   "id": "d529fd4f-9842-41d5-9e70-0e814a07579b",
   "metadata": {},
   "source": [
    "## Выводы"
   ]
  },
  {
   "cell_type": "markdown",
   "id": "d8f3475c-54b5-4105-ae80-1d761114fdcb",
   "metadata": {},
   "source": [
    "1. В результате проделанной работы создан датафрейм в `one hot` виде, где `human` обозначен цифрой 1, а `robot` - цифрой 0\n",
    "2. Преобразование выполнено без использования функции `get_dummies`"
   ]
  }
 ],
 "metadata": {
  "kernelspec": {
   "display_name": "Python 3 (ipykernel)",
   "language": "python",
   "name": "python3"
  },
  "language_info": {
   "codemirror_mode": {
    "name": "ipython",
    "version": 3
   },
   "file_extension": ".py",
   "mimetype": "text/x-python",
   "name": "python",
   "nbconvert_exporter": "python",
   "pygments_lexer": "ipython3",
   "version": "3.12.5"
  }
 },
 "nbformat": 4,
 "nbformat_minor": 5
}
